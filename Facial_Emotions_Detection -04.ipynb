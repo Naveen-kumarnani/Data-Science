{
 "cells": [
  {
   "cell_type": "code",
   "execution_count": 1,
   "id": "781a5e7c",
   "metadata": {},
   "outputs": [],
   "source": [
    "import pandas as pd"
   ]
  },
  {
   "cell_type": "code",
   "execution_count": 2,
   "id": "15461bac",
   "metadata": {},
   "outputs": [],
   "source": [
    "import numpy as np"
   ]
  },
  {
   "cell_type": "code",
   "execution_count": 3,
   "id": "0fc92ec5",
   "metadata": {},
   "outputs": [],
   "source": [
    "import cv2"
   ]
  },
  {
   "cell_type": "code",
   "execution_count": 4,
   "id": "a95600ac",
   "metadata": {},
   "outputs": [],
   "source": [
    "import os"
   ]
  },
  {
   "cell_type": "code",
   "execution_count": 5,
   "id": "f13a63f3",
   "metadata": {},
   "outputs": [],
   "source": [
    "import tensorflow as tf"
   ]
  },
  {
   "cell_type": "code",
   "execution_count": 6,
   "id": "1e2f74bd",
   "metadata": {},
   "outputs": [],
   "source": [
    "from tensorflow.keras.models import Sequential"
   ]
  },
  {
   "cell_type": "code",
   "execution_count": 7,
   "id": "dc464bed",
   "metadata": {},
   "outputs": [],
   "source": [
    "from tensorflow.keras.layers import Input,Conv2D,MaxPooling2D,Flatten,Dense,Dropout"
   ]
  },
  {
   "cell_type": "code",
   "execution_count": 8,
   "id": "15cd45f6",
   "metadata": {},
   "outputs": [],
   "source": [
    "path=\"C:/Users/ny691/OneDrive/Desktop/DATA SCIENCE NOTES/DATASETS/Deep Learning/CNN/Facial_Emotion/\""
   ]
  },
  {
   "cell_type": "code",
   "execution_count": 9,
   "id": "b1bba870",
   "metadata": {},
   "outputs": [],
   "source": [
    "emlist=os.listdir(\"C:/Users/ny691/OneDrive/Desktop/DATA SCIENCE NOTES/DATASETS/Deep Learning/CNN/Facial_Emotion\")"
   ]
  },
  {
   "cell_type": "code",
   "execution_count": 10,
   "id": "fc1beb1d",
   "metadata": {},
   "outputs": [
    {
     "data": {
      "text/plain": [
       "['angry', 'disgust', 'fear', 'happy', 'neutral', 'sad', 'surprise']"
      ]
     },
     "execution_count": 10,
     "metadata": {},
     "output_type": "execute_result"
    }
   ],
   "source": [
    "emlist\n"
   ]
  },
  {
   "cell_type": "code",
   "execution_count": 11,
   "id": "a336345a",
   "metadata": {},
   "outputs": [],
   "source": [
    "incol=[]\n",
    "depen=[]\n",
    "for n,i in enumerate(emlist):\n",
    "    for e in os.listdir(path+i):\n",
    "        img=cv2.imread(path+i+\"/\"+e)\n",
    "        img=cv2.resize(img,(100,100))\n",
    "        incol.append(img)\n",
    "        depen.append(n)"
   ]
  },
  {
   "cell_type": "code",
   "execution_count": 12,
   "id": "ada35d19",
   "metadata": {},
   "outputs": [
    {
     "data": {
      "text/plain": [
       "28888"
      ]
     },
     "execution_count": 12,
     "metadata": {},
     "output_type": "execute_result"
    }
   ],
   "source": [
    "len(incol)"
   ]
  },
  {
   "cell_type": "code",
   "execution_count": 13,
   "id": "bb08025c",
   "metadata": {},
   "outputs": [
    {
     "data": {
      "text/plain": [
       "28888"
      ]
     },
     "execution_count": 13,
     "metadata": {},
     "output_type": "execute_result"
    }
   ],
   "source": [
    "len(depen)"
   ]
  },
  {
   "cell_type": "code",
   "execution_count": 14,
   "id": "ddae77e7",
   "metadata": {},
   "outputs": [],
   "source": [
    "inden_ary=np.array(incol)"
   ]
  },
  {
   "cell_type": "code",
   "execution_count": 15,
   "id": "630b4725",
   "metadata": {},
   "outputs": [],
   "source": [
    "depen_ary=np.array(depen)"
   ]
  },
  {
   "cell_type": "markdown",
   "id": "ad5ddb47",
   "metadata": {},
   "source": [
    "### Scaling"
   ]
  },
  {
   "cell_type": "code",
   "execution_count": 16,
   "id": "3e0706da",
   "metadata": {},
   "outputs": [],
   "source": [
    "inden_col_scale=inden_ary/255.0\n"
   ]
  },
  {
   "cell_type": "code",
   "execution_count": 17,
   "id": "23722257",
   "metadata": {},
   "outputs": [],
   "source": [
    "X=inden_col_scale"
   ]
  },
  {
   "cell_type": "code",
   "execution_count": 18,
   "id": "ba565816",
   "metadata": {},
   "outputs": [],
   "source": [
    "y=depen_ary"
   ]
  },
  {
   "cell_type": "code",
   "execution_count": 19,
   "id": "6417964b",
   "metadata": {},
   "outputs": [
    {
     "data": {
      "text/plain": [
       "(28888, 100, 100, 3)"
      ]
     },
     "execution_count": 19,
     "metadata": {},
     "output_type": "execute_result"
    }
   ],
   "source": [
    "X.shape"
   ]
  },
  {
   "cell_type": "code",
   "execution_count": 20,
   "id": "679dcad6",
   "metadata": {},
   "outputs": [
    {
     "data": {
      "text/plain": [
       "(28888,)"
      ]
     },
     "execution_count": 20,
     "metadata": {},
     "output_type": "execute_result"
    }
   ],
   "source": [
    "y.shape"
   ]
  },
  {
   "cell_type": "markdown",
   "id": "d1820b2f",
   "metadata": {},
   "source": [
    "### Splitting"
   ]
  },
  {
   "cell_type": "code",
   "execution_count": 21,
   "id": "4a27fe15",
   "metadata": {},
   "outputs": [],
   "source": [
    "from sklearn.model_selection import train_test_split"
   ]
  },
  {
   "cell_type": "code",
   "execution_count": 22,
   "id": "3c2d5a99",
   "metadata": {},
   "outputs": [],
   "source": [
    "X_train,X_test,y_train,y_test=train_test_split(X,y,test_size=0.20,random_state=0)"
   ]
  },
  {
   "cell_type": "code",
   "execution_count": 23,
   "id": "1796d94b",
   "metadata": {},
   "outputs": [
    {
     "data": {
      "text/plain": [
       "((28888, 100, 100, 3), (23110, 100, 100, 3), (5778, 100, 100, 3))"
      ]
     },
     "execution_count": 23,
     "metadata": {},
     "output_type": "execute_result"
    }
   ],
   "source": [
    "X.shape,X_train.shape,X_test.shape"
   ]
  },
  {
   "cell_type": "code",
   "execution_count": 24,
   "id": "b749c490",
   "metadata": {},
   "outputs": [
    {
     "data": {
      "text/plain": [
       "((28888,), (23110,), (5778,))"
      ]
     },
     "execution_count": 24,
     "metadata": {},
     "output_type": "execute_result"
    }
   ],
   "source": [
    "y.shape,y_train.shape,y_test.shape"
   ]
  },
  {
   "cell_type": "markdown",
   "id": "66733858",
   "metadata": {},
   "source": [
    "### Model Building"
   ]
  },
  {
   "cell_type": "code",
   "execution_count": 25,
   "id": "6d067d06",
   "metadata": {},
   "outputs": [],
   "source": [
    "smodel=Sequential()"
   ]
  },
  {
   "cell_type": "code",
   "execution_count": 26,
   "id": "1091a755",
   "metadata": {},
   "outputs": [],
   "source": [
    "smodel.add(Input(shape=(100,100,3)))"
   ]
  },
  {
   "cell_type": "code",
   "execution_count": 27,
   "id": "39590dd2",
   "metadata": {},
   "outputs": [],
   "source": [
    "smodel.add(Conv2D(filters=64,kernel_size=(3,3),activation=\"relu\",strides=(1,1),padding=\"valid\"))\n",
    "smodel.add(MaxPooling2D(pool_size=(2,2),strides=2,padding=\"valid\"))\n",
    "smodel.add(Dropout(0.20))\n",
    "           "
   ]
  },
  {
   "cell_type": "code",
   "execution_count": 28,
   "id": "8e36c588",
   "metadata": {},
   "outputs": [],
   "source": [
    "smodel.add(Conv2D(filters=32,kernel_size=(3,3),activation=\"relu\",strides=(1,1),padding=\"valid\"))\n",
    "smodel.add(MaxPooling2D(pool_size=(2,2),strides=2,padding=\"valid\"))\n",
    "smodel.add(Dropout(0.20))"
   ]
  },
  {
   "cell_type": "code",
   "execution_count": 29,
   "id": "e0599f57",
   "metadata": {},
   "outputs": [],
   "source": [
    "smodel.add(Conv2D(filters=16,kernel_size=(3,3),activation=\"relu\",strides=(1,1),padding=\"valid\"))\n",
    "smodel.add(MaxPooling2D(pool_size=(2,2),strides=2,padding=\"valid\"))\n",
    "smodel.add(Dropout(0.20))"
   ]
  },
  {
   "cell_type": "code",
   "execution_count": 30,
   "id": "5bf384a6",
   "metadata": {},
   "outputs": [],
   "source": [
    "smodel.add(Flatten())"
   ]
  },
  {
   "cell_type": "code",
   "execution_count": 31,
   "id": "6815f010",
   "metadata": {},
   "outputs": [],
   "source": [
    "smodel.add(Dense(256,activation=\"relu\"))"
   ]
  },
  {
   "cell_type": "code",
   "execution_count": 32,
   "id": "b280dc01",
   "metadata": {},
   "outputs": [],
   "source": [
    "smodel.add(Dense(128,activation=\"relu\"))"
   ]
  },
  {
   "cell_type": "code",
   "execution_count": 33,
   "id": "42717ab3",
   "metadata": {},
   "outputs": [],
   "source": [
    "smodel.add(Dense(64,activation=\"relu\"))"
   ]
  },
  {
   "cell_type": "code",
   "execution_count": 34,
   "id": "c9097a51",
   "metadata": {},
   "outputs": [],
   "source": [
    "smodel.add(Dense(32,activation=\"relu\"))"
   ]
  },
  {
   "cell_type": "code",
   "execution_count": 35,
   "id": "cd589cc0",
   "metadata": {},
   "outputs": [],
   "source": [
    "smodel.add(Dense(7,activation=\"softmax\"))"
   ]
  },
  {
   "cell_type": "code",
   "execution_count": 37,
   "id": "4c4d4a26",
   "metadata": {},
   "outputs": [
    {
     "name": "stdout",
     "output_type": "stream",
     "text": [
      "Model: \"sequential\"\n",
      "_________________________________________________________________\n",
      " Layer (type)                Output Shape              Param #   \n",
      "=================================================================\n",
      " conv2d (Conv2D)             (None, 98, 98, 64)        1792      \n",
      "                                                                 \n",
      " max_pooling2d (MaxPooling2  (None, 49, 49, 64)        0         \n",
      " D)                                                              \n",
      "                                                                 \n",
      " dropout (Dropout)           (None, 49, 49, 64)        0         \n",
      "                                                                 \n",
      " conv2d_1 (Conv2D)           (None, 47, 47, 32)        18464     \n",
      "                                                                 \n",
      " max_pooling2d_1 (MaxPoolin  (None, 23, 23, 32)        0         \n",
      " g2D)                                                            \n",
      "                                                                 \n",
      " dropout_1 (Dropout)         (None, 23, 23, 32)        0         \n",
      "                                                                 \n",
      " conv2d_2 (Conv2D)           (None, 21, 21, 16)        4624      \n",
      "                                                                 \n",
      " max_pooling2d_2 (MaxPoolin  (None, 10, 10, 16)        0         \n",
      " g2D)                                                            \n",
      "                                                                 \n",
      " dropout_2 (Dropout)         (None, 10, 10, 16)        0         \n",
      "                                                                 \n",
      " flatten (Flatten)           (None, 1600)              0         \n",
      "                                                                 \n",
      " dense (Dense)               (None, 256)               409856    \n",
      "                                                                 \n",
      " dense_1 (Dense)             (None, 128)               32896     \n",
      "                                                                 \n",
      " dense_2 (Dense)             (None, 64)                8256      \n",
      "                                                                 \n",
      " dense_3 (Dense)             (None, 32)                2080      \n",
      "                                                                 \n",
      " dense_4 (Dense)             (None, 7)                 231       \n",
      "                                                                 \n",
      "=================================================================\n",
      "Total params: 478199 (1.82 MB)\n",
      "Trainable params: 478199 (1.82 MB)\n",
      "Non-trainable params: 0 (0.00 Byte)\n",
      "_________________________________________________________________\n"
     ]
    }
   ],
   "source": [
    "smodel.summary()"
   ]
  },
  {
   "cell_type": "code",
   "execution_count": 38,
   "id": "a57a6b79",
   "metadata": {},
   "outputs": [],
   "source": [
    "smodel.compile(optimizer=\"adam\",loss=\"sparse_categorical_crossentropy\",metrics=[\"accuracy\"])"
   ]
  },
  {
   "cell_type": "code",
   "execution_count": 39,
   "id": "0f862a81",
   "metadata": {},
   "outputs": [
    {
     "name": "stdout",
     "output_type": "stream",
     "text": [
      "Epoch 1/20\n",
      "723/723 [==============================] - 149s 204ms/step - loss: 1.8922 - accuracy: 0.2055\n",
      "Epoch 2/20\n",
      "723/723 [==============================] - 147s 204ms/step - loss: 1.6494 - accuracy: 0.3531\n",
      "Epoch 3/20\n",
      "723/723 [==============================] - 144s 199ms/step - loss: 1.3829 - accuracy: 0.4579\n",
      "Epoch 4/20\n",
      "723/723 [==============================] - 143s 198ms/step - loss: 1.2090 - accuracy: 0.5260\n",
      "Epoch 5/20\n",
      "723/723 [==============================] - 145s 201ms/step - loss: 1.0801 - accuracy: 0.5717\n",
      "Epoch 6/20\n",
      "723/723 [==============================] - 145s 200ms/step - loss: 0.9791 - accuracy: 0.6148\n",
      "Epoch 7/20\n",
      "723/723 [==============================] - 149s 205ms/step - loss: 0.9020 - accuracy: 0.6457\n",
      "Epoch 8/20\n",
      "723/723 [==============================] - 144s 199ms/step - loss: 0.8242 - accuracy: 0.6793\n",
      "Epoch 9/20\n",
      "723/723 [==============================] - 147s 203ms/step - loss: 0.7594 - accuracy: 0.7057\n",
      "Epoch 10/20\n",
      "723/723 [==============================] - 144s 199ms/step - loss: 0.6959 - accuracy: 0.7299\n",
      "Epoch 11/20\n",
      "723/723 [==============================] - 146s 201ms/step - loss: 0.6422 - accuracy: 0.7562\n",
      "Epoch 12/20\n",
      "723/723 [==============================] - 145s 200ms/step - loss: 0.5976 - accuracy: 0.7739\n",
      "Epoch 13/20\n",
      "723/723 [==============================] - 144s 199ms/step - loss: 0.5519 - accuracy: 0.7940\n",
      "Epoch 14/20\n",
      "723/723 [==============================] - 144s 199ms/step - loss: 0.5151 - accuracy: 0.8104\n",
      "Epoch 15/20\n",
      "723/723 [==============================] - 150s 207ms/step - loss: 0.4784 - accuracy: 0.8217\n",
      "Epoch 16/20\n",
      "723/723 [==============================] - 3892s 5s/step - loss: 0.4485 - accuracy: 0.8338\n",
      "Epoch 17/20\n",
      "723/723 [==============================] - 148s 204ms/step - loss: 0.4196 - accuracy: 0.8451\n",
      "Epoch 18/20\n",
      "723/723 [==============================] - 145s 201ms/step - loss: 0.3988 - accuracy: 0.8531\n",
      "Epoch 19/20\n",
      "723/723 [==============================] - 192s 266ms/step - loss: 0.3814 - accuracy: 0.8611\n",
      "Epoch 20/20\n",
      "723/723 [==============================] - 148s 205ms/step - loss: 0.3591 - accuracy: 0.8678\n"
     ]
    },
    {
     "data": {
      "text/plain": [
       "<keras.src.callbacks.History at 0x1fb8594c970>"
      ]
     },
     "execution_count": 39,
     "metadata": {},
     "output_type": "execute_result"
    }
   ],
   "source": [
    "smodel.fit(X_train,y_train,epochs=20)"
   ]
  },
  {
   "cell_type": "code",
   "execution_count": 40,
   "id": "b0fbced2",
   "metadata": {},
   "outputs": [
    {
     "name": "stdout",
     "output_type": "stream",
     "text": [
      "181/181 [==============================] - 8s 44ms/step - loss: 1.5117 - accuracy: 0.6000\n"
     ]
    },
    {
     "data": {
      "text/plain": [
       "[1.5116925239562988, 0.6000345945358276]"
      ]
     },
     "execution_count": 40,
     "metadata": {},
     "output_type": "execute_result"
    }
   ],
   "source": [
    "smodel.evaluate(X_test,y_test)"
   ]
  },
  {
   "cell_type": "code",
   "execution_count": 41,
   "id": "963ab41b",
   "metadata": {},
   "outputs": [
    {
     "data": {
      "text/plain": [
       "array([[[0.20392157, 0.20392157, 0.20392157],\n",
       "        [0.17254902, 0.17254902, 0.17254902],\n",
       "        [0.10588235, 0.10588235, 0.10588235],\n",
       "        ...,\n",
       "        [0.03921569, 0.03921569, 0.03921569],\n",
       "        [0.04313725, 0.04313725, 0.04313725],\n",
       "        [0.04313725, 0.04313725, 0.04313725]],\n",
       "\n",
       "       [[0.2       , 0.2       , 0.2       ],\n",
       "        [0.17254902, 0.17254902, 0.17254902],\n",
       "        [0.10980392, 0.10980392, 0.10980392],\n",
       "        ...,\n",
       "        [0.03921569, 0.03921569, 0.03921569],\n",
       "        [0.03921569, 0.03921569, 0.03921569],\n",
       "        [0.03921569, 0.03921569, 0.03921569]],\n",
       "\n",
       "       [[0.19215686, 0.19215686, 0.19215686],\n",
       "        [0.16862745, 0.16862745, 0.16862745],\n",
       "        [0.11372549, 0.11372549, 0.11372549],\n",
       "        ...,\n",
       "        [0.03529412, 0.03529412, 0.03529412],\n",
       "        [0.03529412, 0.03529412, 0.03529412],\n",
       "        [0.03529412, 0.03529412, 0.03529412]],\n",
       "\n",
       "       ...,\n",
       "\n",
       "       [[0.38039216, 0.38039216, 0.38039216],\n",
       "        [0.38039216, 0.38039216, 0.38039216],\n",
       "        [0.37647059, 0.37647059, 0.37647059],\n",
       "        ...,\n",
       "        [0.58431373, 0.58431373, 0.58431373],\n",
       "        [0.54901961, 0.54901961, 0.54901961],\n",
       "        [0.53333333, 0.53333333, 0.53333333]],\n",
       "\n",
       "       [[0.38431373, 0.38431373, 0.38431373],\n",
       "        [0.38431373, 0.38431373, 0.38431373],\n",
       "        [0.37647059, 0.37647059, 0.37647059],\n",
       "        ...,\n",
       "        [0.61960784, 0.61960784, 0.61960784],\n",
       "        [0.59215686, 0.59215686, 0.59215686],\n",
       "        [0.58039216, 0.58039216, 0.58039216]],\n",
       "\n",
       "       [[0.38823529, 0.38823529, 0.38823529],\n",
       "        [0.38431373, 0.38431373, 0.38431373],\n",
       "        [0.37254902, 0.37254902, 0.37254902],\n",
       "        ...,\n",
       "        [0.63137255, 0.63137255, 0.63137255],\n",
       "        [0.60784314, 0.60784314, 0.60784314],\n",
       "        [0.6       , 0.6       , 0.6       ]]])"
      ]
     },
     "execution_count": 41,
     "metadata": {},
     "output_type": "execute_result"
    }
   ],
   "source": [
    "X_train[2108]"
   ]
  },
  {
   "cell_type": "code",
   "execution_count": 42,
   "id": "205f554d",
   "metadata": {},
   "outputs": [],
   "source": [
    "img=X_train[2108].reshape((1,)+X_train[2108].shape)"
   ]
  },
  {
   "cell_type": "code",
   "execution_count": 43,
   "id": "1c82a637",
   "metadata": {},
   "outputs": [
    {
     "name": "stdout",
     "output_type": "stream",
     "text": [
      "1/1 [==============================] - 0s 162ms/step\n"
     ]
    },
    {
     "data": {
      "text/plain": [
       "array([[1.4613869e-09, 8.0530374e-12, 1.1812870e-08, 9.9999976e-01,\n",
       "        2.2364775e-07, 3.5085612e-09, 8.1977625e-10]], dtype=float32)"
      ]
     },
     "execution_count": 43,
     "metadata": {},
     "output_type": "execute_result"
    }
   ],
   "source": [
    "smodel.predict(img)"
   ]
  },
  {
   "cell_type": "code",
   "execution_count": 44,
   "id": "52ad1827",
   "metadata": {},
   "outputs": [
    {
     "name": "stdout",
     "output_type": "stream",
     "text": [
      "1/1 [==============================] - 0s 55ms/step\n"
     ]
    },
    {
     "data": {
      "text/plain": [
       "3"
      ]
     },
     "execution_count": 44,
     "metadata": {},
     "output_type": "execute_result"
    }
   ],
   "source": [
    "np.argmax(smodel.predict(img))"
   ]
  },
  {
   "cell_type": "code",
   "execution_count": 50,
   "id": "6586ec5c",
   "metadata": {},
   "outputs": [
    {
     "data": {
      "text/plain": [
       "'happy'"
      ]
     },
     "execution_count": 50,
     "metadata": {},
     "output_type": "execute_result"
    }
   ],
   "source": [
    "emlist[3]"
   ]
  },
  {
   "cell_type": "code",
   "execution_count": 46,
   "id": "e5e2f828",
   "metadata": {},
   "outputs": [
    {
     "data": {
      "text/plain": [
       "3"
      ]
     },
     "execution_count": 46,
     "metadata": {},
     "output_type": "execute_result"
    }
   ],
   "source": [
    "y_train[2108]"
   ]
  },
  {
   "cell_type": "code",
   "execution_count": 48,
   "id": "0b063c89",
   "metadata": {},
   "outputs": [],
   "source": [
    "import matplotlib.pyplot as plt"
   ]
  },
  {
   "cell_type": "code",
   "execution_count": 49,
   "id": "d423f019",
   "metadata": {},
   "outputs": [
    {
     "data": {
      "text/plain": [
       "<matplotlib.image.AxesImage at 0x1fb8a1a7790>"
      ]
     },
     "execution_count": 49,
     "metadata": {},
     "output_type": "execute_result"
    },
    {
     "data": {
      "image/png": "[encoded data removed]",
      "text/plain": [
       "<Figure size 640x480 with 1 Axes>"
      ]
     },
     "metadata": {},
     "output_type": "display_data"
    }
   ],
   "source": [
    "plt.imshow(X_train[2108])"
   ]
  },
  {
   "cell_type": "code",
   "execution_count": null,
   "id": "b3daf2d5",
   "metadata": {},
   "outputs": [],
   "source": []
  }
 ],
 "metadata": {
  "kernelspec": {
   "display_name": "Python 3 (ipykernel)",
   "language": "python",
   "name": "python3"
  },
  "language_info": {
   "codemirror_mode": {
    "name": "ipython",
    "version": 3
   },
   "file_extension": ".py",
   "mimetype": "text/x-python",
   "name": "python",
   "nbconvert_exporter": "python",
   "pygments_lexer": "ipython3",
   "version": "3.9.13"
  }
 },
 "nbformat": 4,
 "nbformat_minor": 5
}
