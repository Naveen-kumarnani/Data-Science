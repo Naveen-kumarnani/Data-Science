{
 "cells": [
  {
   "cell_type": "code",
   "execution_count": 1,
   "id": "d8275da7",
   "metadata": {},
   "outputs": [],
   "source": [
    "import os"
   ]
  },
  {
   "cell_type": "code",
   "execution_count": 2,
   "id": "46ff3552",
   "metadata": {},
   "outputs": [],
   "source": [
    "import pandas as pd"
   ]
  },
  {
   "cell_type": "code",
   "execution_count": 3,
   "id": "34e4a0e5",
   "metadata": {},
   "outputs": [],
   "source": [
    "import numpy as np"
   ]
  },
  {
   "cell_type": "code",
   "execution_count": 4,
   "id": "0892996b",
   "metadata": {},
   "outputs": [],
   "source": [
    "import cv2"
   ]
  },
  {
   "cell_type": "code",
   "execution_count": 5,
   "id": "acb77933",
   "metadata": {},
   "outputs": [],
   "source": [
    "import tensorflow as tf"
   ]
  },
  {
   "cell_type": "code",
   "execution_count": 47,
   "id": "2143808e",
   "metadata": {},
   "outputs": [],
   "source": [
    "import matplotlib.pyplot as plt"
   ]
  },
  {
   "cell_type": "code",
   "execution_count": null,
   "id": "97b5c101",
   "metadata": {},
   "outputs": [],
   "source": []
  },
  {
   "cell_type": "code",
   "execution_count": null,
   "id": "8b249408",
   "metadata": {},
   "outputs": [],
   "source": []
  },
  {
   "cell_type": "code",
   "execution_count": null,
   "id": "dcb2c5e7",
   "metadata": {},
   "outputs": [],
   "source": []
  },
  {
   "cell_type": "code",
   "execution_count": 37,
   "id": "f4d74b7b",
   "metadata": {},
   "outputs": [],
   "source": [
    "path=\"C:/Users/ny691/Downloads/Maleria_Dataset/cell_images/\""
   ]
  },
  {
   "cell_type": "code",
   "execution_count": 38,
   "id": "fb5f5687",
   "metadata": {},
   "outputs": [],
   "source": [
    "ls=[\"Uninfected\",\"Parasitized\"]"
   ]
  },
  {
   "cell_type": "code",
   "execution_count": 49,
   "id": "295c1efd",
   "metadata": {},
   "outputs": [],
   "source": [
    "inden_col=[]\n",
    "depen_col=[]\n",
    "for n,i in enumerate(ls):\n",
    "    c=0\n",
    "    for e in os.listdir(path+i):\n",
    "        img=cv2.imread(path+i+\"/\"+e)\n",
    "        img=cv2.resize(img,(96,96))\n",
    "        inden_col.append(img)\n",
    "        depen_col.append(n)\n",
    "        c=c+1\n",
    "        if c==3300:\n",
    "            break\n",
    "        "
   ]
  },
  {
   "cell_type": "code",
   "execution_count": 50,
   "id": "5a449acf",
   "metadata": {},
   "outputs": [
    {
     "data": {
      "text/plain": [
       "6600"
      ]
     },
     "execution_count": 50,
     "metadata": {},
     "output_type": "execute_result"
    }
   ],
   "source": [
    "len(inden_col)"
   ]
  },
  {
   "cell_type": "code",
   "execution_count": 51,
   "id": "d2b4de6b",
   "metadata": {},
   "outputs": [
    {
     "data": {
      "text/plain": [
       "(96, 96, 3)"
      ]
     },
     "execution_count": 51,
     "metadata": {},
     "output_type": "execute_result"
    }
   ],
   "source": [
    "inden_col[1].shape"
   ]
  },
  {
   "cell_type": "code",
   "execution_count": 52,
   "id": "52805dfd",
   "metadata": {},
   "outputs": [],
   "source": [
    "indepen=np.array(inden_col)"
   ]
  },
  {
   "cell_type": "code",
   "execution_count": 53,
   "id": "5be7b265",
   "metadata": {},
   "outputs": [
    {
     "data": {
      "text/plain": [
       "(6600, 96, 96, 3)"
      ]
     },
     "execution_count": 53,
     "metadata": {},
     "output_type": "execute_result"
    }
   ],
   "source": [
    "indepen.shape"
   ]
  },
  {
   "cell_type": "code",
   "execution_count": 54,
   "id": "8e6bbf96",
   "metadata": {},
   "outputs": [],
   "source": [
    "depen=np.array(depen_col)"
   ]
  },
  {
   "cell_type": "code",
   "execution_count": 55,
   "id": "ce3a06e9",
   "metadata": {},
   "outputs": [
    {
     "data": {
      "text/plain": [
       "array([0, 0, 0, ..., 1, 1, 1])"
      ]
     },
     "execution_count": 55,
     "metadata": {},
     "output_type": "execute_result"
    }
   ],
   "source": [
    "depen"
   ]
  },
  {
   "cell_type": "code",
   "execution_count": 56,
   "id": "0f7b499e",
   "metadata": {},
   "outputs": [
    {
     "data": {
      "text/plain": [
       "(6600,)"
      ]
     },
     "execution_count": 56,
     "metadata": {},
     "output_type": "execute_result"
    }
   ],
   "source": [
    "depen.shape"
   ]
  },
  {
   "cell_type": "code",
   "execution_count": 57,
   "id": "f718781e",
   "metadata": {},
   "outputs": [
    {
     "data": {
      "text/plain": [
       "array([[[[0, 0, 0],\n",
       "         [0, 0, 0],\n",
       "         [0, 0, 0],\n",
       "         ...,\n",
       "         [0, 0, 0],\n",
       "         [0, 0, 0],\n",
       "         [0, 0, 0]],\n",
       "\n",
       "        [[0, 0, 0],\n",
       "         [0, 0, 0],\n",
       "         [0, 0, 0],\n",
       "         ...,\n",
       "         [0, 0, 0],\n",
       "         [0, 0, 0],\n",
       "         [0, 0, 0]],\n",
       "\n",
       "        [[0, 0, 0],\n",
       "         [0, 0, 0],\n",
       "         [0, 0, 0],\n",
       "         ...,\n",
       "         [0, 0, 0],\n",
       "         [0, 0, 0],\n",
       "         [0, 0, 0]],\n",
       "\n",
       "        ...,\n",
       "\n",
       "        [[0, 0, 0],\n",
       "         [0, 0, 0],\n",
       "         [0, 0, 0],\n",
       "         ...,\n",
       "         [0, 0, 0],\n",
       "         [0, 0, 0],\n",
       "         [0, 0, 0]],\n",
       "\n",
       "        [[0, 0, 0],\n",
       "         [0, 0, 0],\n",
       "         [0, 0, 0],\n",
       "         ...,\n",
       "         [0, 0, 0],\n",
       "         [0, 0, 0],\n",
       "         [0, 0, 0]],\n",
       "\n",
       "        [[0, 0, 0],\n",
       "         [0, 0, 0],\n",
       "         [0, 0, 0],\n",
       "         ...,\n",
       "         [0, 0, 0],\n",
       "         [0, 0, 0],\n",
       "         [0, 0, 0]]],\n",
       "\n",
       "\n",
       "       [[[0, 0, 0],\n",
       "         [0, 0, 0],\n",
       "         [0, 0, 0],\n",
       "         ...,\n",
       "         [0, 0, 0],\n",
       "         [0, 0, 0],\n",
       "         [0, 0, 0]],\n",
       "\n",
       "        [[0, 0, 0],\n",
       "         [0, 0, 0],\n",
       "         [0, 0, 0],\n",
       "         ...,\n",
       "         [0, 0, 0],\n",
       "         [0, 0, 0],\n",
       "         [0, 0, 0]],\n",
       "\n",
       "        [[0, 0, 0],\n",
       "         [0, 0, 0],\n",
       "         [0, 0, 0],\n",
       "         ...,\n",
       "         [0, 0, 0],\n",
       "         [0, 0, 0],\n",
       "         [0, 0, 0]],\n",
       "\n",
       "        ...,\n",
       "\n",
       "        [[0, 0, 0],\n",
       "         [0, 0, 0],\n",
       "         [0, 0, 0],\n",
       "         ...,\n",
       "         [0, 0, 0],\n",
       "         [0, 0, 0],\n",
       "         [0, 0, 0]],\n",
       "\n",
       "        [[0, 0, 0],\n",
       "         [0, 0, 0],\n",
       "         [0, 0, 0],\n",
       "         ...,\n",
       "         [0, 0, 0],\n",
       "         [0, 0, 0],\n",
       "         [0, 0, 0]],\n",
       "\n",
       "        [[0, 0, 0],\n",
       "         [0, 0, 0],\n",
       "         [0, 0, 0],\n",
       "         ...,\n",
       "         [0, 0, 0],\n",
       "         [0, 0, 0],\n",
       "         [0, 0, 0]]],\n",
       "\n",
       "\n",
       "       [[[0, 0, 0],\n",
       "         [0, 0, 0],\n",
       "         [0, 0, 0],\n",
       "         ...,\n",
       "         [0, 0, 0],\n",
       "         [0, 0, 0],\n",
       "         [0, 0, 0]],\n",
       "\n",
       "        [[0, 0, 0],\n",
       "         [0, 0, 0],\n",
       "         [0, 0, 0],\n",
       "         ...,\n",
       "         [0, 0, 0],\n",
       "         [0, 0, 0],\n",
       "         [0, 0, 0]],\n",
       "\n",
       "        [[0, 0, 0],\n",
       "         [0, 0, 0],\n",
       "         [0, 0, 0],\n",
       "         ...,\n",
       "         [0, 0, 0],\n",
       "         [0, 0, 0],\n",
       "         [0, 0, 0]],\n",
       "\n",
       "        ...,\n",
       "\n",
       "        [[0, 0, 0],\n",
       "         [0, 0, 0],\n",
       "         [0, 0, 0],\n",
       "         ...,\n",
       "         [0, 0, 0],\n",
       "         [0, 0, 0],\n",
       "         [0, 0, 0]],\n",
       "\n",
       "        [[0, 0, 0],\n",
       "         [0, 0, 0],\n",
       "         [0, 0, 0],\n",
       "         ...,\n",
       "         [0, 0, 0],\n",
       "         [0, 0, 0],\n",
       "         [0, 0, 0]],\n",
       "\n",
       "        [[0, 0, 0],\n",
       "         [0, 0, 0],\n",
       "         [0, 0, 0],\n",
       "         ...,\n",
       "         [0, 0, 0],\n",
       "         [0, 0, 0],\n",
       "         [0, 0, 0]]],\n",
       "\n",
       "\n",
       "       ...,\n",
       "\n",
       "\n",
       "       [[[0, 0, 0],\n",
       "         [0, 0, 0],\n",
       "         [0, 0, 0],\n",
       "         ...,\n",
       "         [0, 0, 0],\n",
       "         [0, 0, 0],\n",
       "         [0, 0, 0]],\n",
       "\n",
       "        [[0, 0, 0],\n",
       "         [0, 0, 0],\n",
       "         [0, 0, 0],\n",
       "         ...,\n",
       "         [0, 0, 0],\n",
       "         [0, 0, 0],\n",
       "         [0, 0, 0]],\n",
       "\n",
       "        [[0, 0, 0],\n",
       "         [0, 0, 0],\n",
       "         [0, 0, 0],\n",
       "         ...,\n",
       "         [0, 0, 0],\n",
       "         [0, 0, 0],\n",
       "         [0, 0, 0]],\n",
       "\n",
       "        ...,\n",
       "\n",
       "        [[0, 0, 0],\n",
       "         [0, 0, 0],\n",
       "         [0, 0, 0],\n",
       "         ...,\n",
       "         [0, 0, 0],\n",
       "         [0, 0, 0],\n",
       "         [0, 0, 0]],\n",
       "\n",
       "        [[0, 0, 0],\n",
       "         [0, 0, 0],\n",
       "         [0, 0, 0],\n",
       "         ...,\n",
       "         [0, 0, 0],\n",
       "         [0, 0, 0],\n",
       "         [0, 0, 0]],\n",
       "\n",
       "        [[0, 0, 0],\n",
       "         [0, 0, 0],\n",
       "         [0, 0, 0],\n",
       "         ...,\n",
       "         [0, 0, 0],\n",
       "         [0, 0, 0],\n",
       "         [0, 0, 0]]],\n",
       "\n",
       "\n",
       "       [[[0, 0, 0],\n",
       "         [0, 0, 0],\n",
       "         [0, 0, 0],\n",
       "         ...,\n",
       "         [0, 0, 0],\n",
       "         [0, 0, 0],\n",
       "         [0, 0, 0]],\n",
       "\n",
       "        [[0, 0, 0],\n",
       "         [0, 0, 0],\n",
       "         [0, 0, 0],\n",
       "         ...,\n",
       "         [0, 0, 0],\n",
       "         [0, 0, 0],\n",
       "         [0, 0, 0]],\n",
       "\n",
       "        [[0, 0, 0],\n",
       "         [0, 0, 0],\n",
       "         [0, 0, 0],\n",
       "         ...,\n",
       "         [0, 0, 0],\n",
       "         [0, 0, 0],\n",
       "         [0, 0, 0]],\n",
       "\n",
       "        ...,\n",
       "\n",
       "        [[0, 0, 0],\n",
       "         [0, 0, 0],\n",
       "         [0, 0, 0],\n",
       "         ...,\n",
       "         [0, 0, 0],\n",
       "         [0, 0, 0],\n",
       "         [0, 0, 0]],\n",
       "\n",
       "        [[0, 0, 0],\n",
       "         [0, 0, 0],\n",
       "         [0, 0, 0],\n",
       "         ...,\n",
       "         [0, 0, 0],\n",
       "         [0, 0, 0],\n",
       "         [0, 0, 0]],\n",
       "\n",
       "        [[0, 0, 0],\n",
       "         [0, 0, 0],\n",
       "         [0, 0, 0],\n",
       "         ...,\n",
       "         [0, 0, 0],\n",
       "         [0, 0, 0],\n",
       "         [0, 0, 0]]],\n",
       "\n",
       "\n",
       "       [[[0, 0, 0],\n",
       "         [0, 0, 0],\n",
       "         [0, 0, 0],\n",
       "         ...,\n",
       "         [0, 0, 0],\n",
       "         [0, 0, 0],\n",
       "         [0, 0, 0]],\n",
       "\n",
       "        [[0, 0, 0],\n",
       "         [0, 0, 0],\n",
       "         [0, 0, 0],\n",
       "         ...,\n",
       "         [0, 0, 0],\n",
       "         [0, 0, 0],\n",
       "         [0, 0, 0]],\n",
       "\n",
       "        [[0, 0, 0],\n",
       "         [0, 0, 0],\n",
       "         [0, 0, 0],\n",
       "         ...,\n",
       "         [0, 0, 0],\n",
       "         [0, 0, 0],\n",
       "         [0, 0, 0]],\n",
       "\n",
       "        ...,\n",
       "\n",
       "        [[0, 0, 0],\n",
       "         [0, 0, 0],\n",
       "         [0, 0, 0],\n",
       "         ...,\n",
       "         [0, 0, 0],\n",
       "         [0, 0, 0],\n",
       "         [0, 0, 0]],\n",
       "\n",
       "        [[0, 0, 0],\n",
       "         [0, 0, 0],\n",
       "         [0, 0, 0],\n",
       "         ...,\n",
       "         [0, 0, 0],\n",
       "         [0, 0, 0],\n",
       "         [0, 0, 0]],\n",
       "\n",
       "        [[0, 0, 0],\n",
       "         [0, 0, 0],\n",
       "         [0, 0, 0],\n",
       "         ...,\n",
       "         [0, 0, 0],\n",
       "         [0, 0, 0],\n",
       "         [0, 0, 0]]]], dtype=uint8)"
      ]
     },
     "execution_count": 57,
     "metadata": {},
     "output_type": "execute_result"
    }
   ],
   "source": [
    "indepen"
   ]
  },
  {
   "cell_type": "code",
   "execution_count": 58,
   "id": "179ca1df",
   "metadata": {},
   "outputs": [
    {
     "data": {
      "text/plain": [
       "<matplotlib.image.AxesImage at 0x1ad9dc7fd00>"
      ]
     },
     "execution_count": 58,
     "metadata": {},
     "output_type": "execute_result"
    },
    {
     "data": {
      "image/png": "[encoded data removed]",
      "text/plain": [
       "<Figure size 640x480 with 1 Axes>"
      ]
     },
     "metadata": {},
     "output_type": "display_data"
    }
   ],
   "source": [
    "plt.imshow(indepen[1])"
   ]
  },
  {
   "cell_type": "markdown",
   "id": "278d8681",
   "metadata": {},
   "source": [
    "### Scaling"
   ]
  },
  {
   "cell_type": "code",
   "execution_count": 59,
   "id": "c846ab98",
   "metadata": {},
   "outputs": [],
   "source": [
    "x=indepen/255.0"
   ]
  },
  {
   "cell_type": "code",
   "execution_count": 61,
   "id": "9f90d964",
   "metadata": {},
   "outputs": [
    {
     "data": {
      "text/plain": [
       "1.0"
      ]
     },
     "execution_count": 61,
     "metadata": {},
     "output_type": "execute_result"
    }
   ],
   "source": [
    "x.max()"
   ]
  },
  {
   "cell_type": "code",
   "execution_count": 62,
   "id": "1d1e4a0c",
   "metadata": {},
   "outputs": [
    {
     "data": {
      "text/plain": [
       "0.0"
      ]
     },
     "execution_count": 62,
     "metadata": {},
     "output_type": "execute_result"
    }
   ],
   "source": [
    "x.min()"
   ]
  },
  {
   "cell_type": "code",
   "execution_count": 65,
   "id": "03252c22",
   "metadata": {},
   "outputs": [],
   "source": [
    "y=depen"
   ]
  },
  {
   "cell_type": "markdown",
   "id": "8849b98a",
   "metadata": {},
   "source": [
    "### Spliting Data"
   ]
  },
  {
   "cell_type": "code",
   "execution_count": 66,
   "id": "308fe5a7",
   "metadata": {},
   "outputs": [],
   "source": [
    "from sklearn.model_selection import train_test_split"
   ]
  },
  {
   "cell_type": "code",
   "execution_count": 67,
   "id": "d561443d",
   "metadata": {},
   "outputs": [],
   "source": [
    "x_train,x_test,y_train,y_test=train_test_split(x,y,test_size=0.20,random_state=1)"
   ]
  },
  {
   "cell_type": "code",
   "execution_count": 68,
   "id": "9cd2ef19",
   "metadata": {},
   "outputs": [
    {
     "data": {
      "text/plain": [
       "((5280, 96, 96, 3), (1320, 96, 96, 3))"
      ]
     },
     "execution_count": 68,
     "metadata": {},
     "output_type": "execute_result"
    }
   ],
   "source": [
    "x_train.shape,x_test.shape"
   ]
  },
  {
   "cell_type": "code",
   "execution_count": 69,
   "id": "a30d515d",
   "metadata": {},
   "outputs": [
    {
     "data": {
      "text/plain": [
       "((5280,), (1320,))"
      ]
     },
     "execution_count": 69,
     "metadata": {},
     "output_type": "execute_result"
    }
   ],
   "source": [
    "y_train.shape,y_test.shape"
   ]
  },
  {
   "cell_type": "code",
   "execution_count": 70,
   "id": "14d90445",
   "metadata": {},
   "outputs": [
    {
     "data": {
      "text/plain": [
       "((5280,), (1320,))"
      ]
     },
     "execution_count": 70,
     "metadata": {},
     "output_type": "execute_result"
    }
   ],
   "source": [
    "y_train.shape,y_test.shape"
   ]
  },
  {
   "cell_type": "markdown",
   "id": "f1048b25",
   "metadata": {},
   "source": [
    "### Model Building"
   ]
  },
  {
   "cell_type": "code",
   "execution_count": 91,
   "id": "d8f258de",
   "metadata": {},
   "outputs": [],
   "source": [
    "from tensorflow.keras.models import Sequential"
   ]
  },
  {
   "cell_type": "code",
   "execution_count": 92,
   "id": "36c4ac67",
   "metadata": {},
   "outputs": [],
   "source": [
    "from tensorflow.keras.layers import Input,Flatten,Conv2D,MaxPooling2D,Dense,Dropout"
   ]
  },
  {
   "cell_type": "code",
   "execution_count": 93,
   "id": "0694b3cb",
   "metadata": {},
   "outputs": [],
   "source": [
    "seq_model=Sequential()"
   ]
  },
  {
   "cell_type": "code",
   "execution_count": 94,
   "id": "2580567c",
   "metadata": {},
   "outputs": [],
   "source": [
    "seq_model.add(Input(shape=(96,96,3)))"
   ]
  },
  {
   "cell_type": "markdown",
   "id": "cccdd28c",
   "metadata": {},
   "source": [
    "### First Convolutional layer"
   ]
  },
  {
   "cell_type": "code",
   "execution_count": 95,
   "id": "d754ca4d",
   "metadata": {},
   "outputs": [],
   "source": [
    "seq_model.add(Conv2D(filters=64,kernel_size=(3,3),activation=\"relu\",strides=(1,1),padding=\"same\"))\n",
    "seq_model.add(MaxPooling2D(pool_size=(2,2),strides=2,padding=\"valid\"))\n",
    "seq_model.add(Dropout(0.20))"
   ]
  },
  {
   "cell_type": "markdown",
   "id": "4ec5caca",
   "metadata": {},
   "source": [
    "### Second Convolutional layer"
   ]
  },
  {
   "cell_type": "code",
   "execution_count": 96,
   "id": "f2ef80be",
   "metadata": {},
   "outputs": [],
   "source": [
    "seq_model.add(Conv2D(filters=32,kernel_size=(3,3),activation=\"relu\",strides=(1,1),padding=\"same\"))\n",
    "seq_model.add(MaxPooling2D(pool_size=(2,2),strides=2,padding=\"valid\"))\n",
    "seq_model.add(Dropout(0.20))\n"
   ]
  },
  {
   "cell_type": "markdown",
   "id": "ed125924",
   "metadata": {},
   "source": [
    "### Third Convolutional layer"
   ]
  },
  {
   "cell_type": "code",
   "execution_count": 97,
   "id": "c9a92bf0",
   "metadata": {},
   "outputs": [],
   "source": [
    "seq_model.add(Conv2D(filters=16,kernel_size=(3,3),activation=\"relu\",strides=(1,1),padding=\"same\"))\n",
    "seq_model.add(MaxPooling2D(pool_size=(2,2),strides=2,padding=\"valid\"))\n",
    "seq_model.add(Dropout(0.20))"
   ]
  },
  {
   "cell_type": "markdown",
   "id": "94fbcc2b",
   "metadata": {},
   "source": [
    "### Dense layer"
   ]
  },
  {
   "cell_type": "code",
   "execution_count": 98,
   "id": "d0a0fe11",
   "metadata": {},
   "outputs": [],
   "source": [
    "seq_model.add(Flatten())"
   ]
  },
  {
   "cell_type": "code",
   "execution_count": 99,
   "id": "6162b825",
   "metadata": {},
   "outputs": [],
   "source": [
    "seq_model.add(Dense(units=256,activation=\"relu\"))"
   ]
  },
  {
   "cell_type": "code",
   "execution_count": 100,
   "id": "c4e872b1",
   "metadata": {},
   "outputs": [],
   "source": [
    "seq_model.add(Dense(units=128,activation=\"relu\"))"
   ]
  },
  {
   "cell_type": "code",
   "execution_count": 101,
   "id": "27bb0aab",
   "metadata": {},
   "outputs": [],
   "source": [
    "seq_model.add(Dense(units=64,activation=\"relu\"))"
   ]
  },
  {
   "cell_type": "code",
   "execution_count": 102,
   "id": "7b580df5",
   "metadata": {},
   "outputs": [],
   "source": [
    "seq_model.add(Dense(units=32,activation=\"relu\"))"
   ]
  },
  {
   "cell_type": "code",
   "execution_count": 103,
   "id": "2aebdb16",
   "metadata": {},
   "outputs": [],
   "source": [
    "seq_model.add(Dense(units=16,activation=\"relu\"))"
   ]
  },
  {
   "cell_type": "code",
   "execution_count": 104,
   "id": "d62dcd64",
   "metadata": {},
   "outputs": [],
   "source": [
    "seq_model.add(Dense(units=2,activation=\"softmax\"))"
   ]
  },
  {
   "cell_type": "code",
   "execution_count": 105,
   "id": "657d08f7",
   "metadata": {},
   "outputs": [
    {
     "name": "stdout",
     "output_type": "stream",
     "text": [
      "Model: \"sequential_1\"\n",
      "_________________________________________________________________\n",
      " Layer (type)                Output Shape              Param #   \n",
      "=================================================================\n",
      " conv2d_3 (Conv2D)           (None, 96, 96, 64)        1792      \n",
      "                                                                 \n",
      " max_pooling2d_3 (MaxPoolin  (None, 48, 48, 64)        0         \n",
      " g2D)                                                            \n",
      "                                                                 \n",
      " dropout_3 (Dropout)         (None, 48, 48, 64)        0         \n",
      "                                                                 \n",
      " conv2d_4 (Conv2D)           (None, 48, 48, 32)        18464     \n",
      "                                                                 \n",
      " max_pooling2d_4 (MaxPoolin  (None, 24, 24, 32)        0         \n",
      " g2D)                                                            \n",
      "                                                                 \n",
      " dropout_4 (Dropout)         (None, 24, 24, 32)        0         \n",
      "                                                                 \n",
      " conv2d_5 (Conv2D)           (None, 24, 24, 16)        4624      \n",
      "                                                                 \n",
      " max_pooling2d_5 (MaxPoolin  (None, 12, 12, 16)        0         \n",
      " g2D)                                                            \n",
      "                                                                 \n",
      " dropout_5 (Dropout)         (None, 12, 12, 16)        0         \n",
      "                                                                 \n",
      " flatten_1 (Flatten)         (None, 2304)              0         \n",
      "                                                                 \n",
      " dense_6 (Dense)             (None, 256)               590080    \n",
      "                                                                 \n",
      " dense_7 (Dense)             (None, 128)               32896     \n",
      "                                                                 \n",
      " dense_8 (Dense)             (None, 64)                8256      \n",
      "                                                                 \n",
      " dense_9 (Dense)             (None, 32)                2080      \n",
      "                                                                 \n",
      " dense_10 (Dense)            (None, 16)                528       \n",
      "                                                                 \n",
      " dense_11 (Dense)            (None, 2)                 34        \n",
      "                                                                 \n",
      "=================================================================\n",
      "Total params: 658754 (2.51 MB)\n",
      "Trainable params: 658754 (2.51 MB)\n",
      "Non-trainable params: 0 (0.00 Byte)\n",
      "_________________________________________________________________\n"
     ]
    }
   ],
   "source": [
    "seq_model.summary()"
   ]
  },
  {
   "cell_type": "code",
   "execution_count": 106,
   "id": "a0064adf",
   "metadata": {},
   "outputs": [],
   "source": [
    "seq_model.compile(optimizer=\"adam\",loss=\"sparse_categorical_crossentropy\",metrics=[\"accuracy\"])"
   ]
  },
  {
   "cell_type": "code",
   "execution_count": 107,
   "id": "d60ab5cf",
   "metadata": {},
   "outputs": [
    {
     "name": "stdout",
     "output_type": "stream",
     "text": [
      "Epoch 1/20\n",
      "165/165 [==============================] - 131s 788ms/step - loss: 0.6934 - accuracy: 0.4924\n",
      "Epoch 2/20\n",
      "165/165 [==============================] - 130s 790ms/step - loss: 0.6932 - accuracy: 0.5004\n",
      "Epoch 3/20\n",
      "165/165 [==============================] - 131s 794ms/step - loss: 0.6920 - accuracy: 0.5117\n",
      "Epoch 4/20\n",
      "165/165 [==============================] - 130s 787ms/step - loss: 0.6929 - accuracy: 0.5148\n",
      "Epoch 5/20\n",
      "165/165 [==============================] - 146s 885ms/step - loss: 0.6912 - accuracy: 0.5277\n",
      "Epoch 6/20\n",
      "165/165 [==============================] - 136s 825ms/step - loss: 0.6827 - accuracy: 0.5731\n",
      "Epoch 7/20\n",
      "165/165 [==============================] - 133s 809ms/step - loss: 0.6693 - accuracy: 0.5879\n",
      "Epoch 8/20\n",
      "165/165 [==============================] - 131s 795ms/step - loss: 0.5622 - accuracy: 0.7032\n",
      "Epoch 9/20\n",
      "165/165 [==============================] - 132s 802ms/step - loss: 0.2079 - accuracy: 0.9288\n",
      "Epoch 10/20\n",
      "165/165 [==============================] - 130s 789ms/step - loss: 0.1634 - accuracy: 0.9496\n",
      "Epoch 11/20\n",
      "165/165 [==============================] - 131s 793ms/step - loss: 0.1380 - accuracy: 0.9536\n",
      "Epoch 12/20\n",
      "165/165 [==============================] - 130s 786ms/step - loss: 0.1260 - accuracy: 0.9555\n",
      "Epoch 13/20\n",
      "165/165 [==============================] - 132s 798ms/step - loss: 0.1124 - accuracy: 0.9591\n",
      "Epoch 14/20\n",
      "165/165 [==============================] - 131s 796ms/step - loss: 0.0994 - accuracy: 0.9629\n",
      "Epoch 15/20\n",
      "165/165 [==============================] - 223s 1s/step - loss: 0.0942 - accuracy: 0.9653\n",
      "Epoch 16/20\n",
      "165/165 [==============================] - 60056s 366s/step - loss: 0.0843 - accuracy: 0.9686\n",
      "Epoch 17/20\n",
      "165/165 [==============================] - 166s 1s/step - loss: 0.0773 - accuracy: 0.9727\n",
      "Epoch 18/20\n",
      "165/165 [==============================] - 162s 985ms/step - loss: 0.0678 - accuracy: 0.9759\n",
      "Epoch 19/20\n",
      "165/165 [==============================] - 162s 984ms/step - loss: 0.0615 - accuracy: 0.9792\n",
      "Epoch 20/20\n",
      "165/165 [==============================] - 168s 1s/step - loss: 0.0555 - accuracy: 0.9803\n"
     ]
    },
    {
     "data": {
      "text/plain": [
       "<keras.src.callbacks.History at 0x1adee361a00>"
      ]
     },
     "execution_count": 107,
     "metadata": {},
     "output_type": "execute_result"
    }
   ],
   "source": [
    "seq_model.fit(x_train,y_train,epochs=20)"
   ]
  },
  {
   "cell_type": "code",
   "execution_count": null,
   "id": "bf01fc09",
   "metadata": {},
   "outputs": [],
   "source": []
  }
 ],
 "metadata": {
  "kernelspec": {
   "display_name": "Python 3 (ipykernel)",
   "language": "python",
   "name": "python3"
  },
  "language_info": {
   "codemirror_mode": {
    "name": "ipython",
    "version": 3
   },
   "file_extension": ".py",
   "mimetype": "text/x-python",
   "name": "python",
   "nbconvert_exporter": "python",
   "pygments_lexer": "ipython3",
   "version": "3.9.13"
  }
 },
 "nbformat": 4,
 "nbformat_minor": 5
}
